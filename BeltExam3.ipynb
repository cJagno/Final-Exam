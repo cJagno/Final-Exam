{
  "nbformat": 4,
  "nbformat_minor": 0,
  "metadata": {
    "colab": {
      "name": "BeltExam3.ipynb",
      "provenance": []
    },
    "kernelspec": {
      "name": "python3",
      "display_name": "Python 3"
    },
    "language_info": {
      "name": "python"
    }
  },
  "cells": [
    {
      "cell_type": "code",
      "metadata": {
        "colab": {
          "base_uri": "https://localhost:8080/"
        },
        "id": "NiI4UpWhRUWW",
        "outputId": "1e1332b1-e9fe-419f-f500-3c2884c32180"
      },
      "source": [
        "from google.colab import drive\n",
        "drive.mount('/content/drive')"
      ],
      "execution_count": 15,
      "outputs": [
        {
          "output_type": "stream",
          "text": [
            "Drive already mounted at /content/drive; to attempt to forcibly remount, call drive.mount(\"/content/drive\", force_remount=True).\n"
          ],
          "name": "stdout"
        }
      ]
    },
    {
      "cell_type": "code",
      "metadata": {
        "id": "b_xh5sTFRfj0"
      },
      "source": [
        "import pandas as pd\n",
        "import seaborn as sns\n",
        "import numpy as np\n",
        "import matplotlib.pyplot as plt\n",
        "from sqlalchemy import create_engine"
      ],
      "execution_count": 16,
      "outputs": []
    },
    {
      "cell_type": "code",
      "metadata": {
        "id": "Mt0Sr1RnRqjl"
      },
      "source": [
        "lf = pd.read_excel('/content/drive/MyDrive/PT_Data_Science/PandasForDataManipulation/letter_frequency.xlsx', index_col = 0)"
      ],
      "execution_count": 32,
      "outputs": []
    },
    {
      "cell_type": "code",
      "metadata": {
        "colab": {
          "base_uri": "https://localhost:8080/",
          "height": 204
        },
        "id": "PBjw5TsLSB8B",
        "outputId": "9bcb7cb7-84bb-44c3-ab63-f3ff966ec96f"
      },
      "source": [
        "lf.head()"
      ],
      "execution_count": 33,
      "outputs": [
        {
          "output_type": "execute_result",
          "data": {
            "text/html": [
              "<div>\n",
              "<style scoped>\n",
              "    .dataframe tbody tr th:only-of-type {\n",
              "        vertical-align: middle;\n",
              "    }\n",
              "\n",
              "    .dataframe tbody tr th {\n",
              "        vertical-align: top;\n",
              "    }\n",
              "\n",
              "    .dataframe thead th {\n",
              "        text-align: right;\n",
              "    }\n",
              "</style>\n",
              "<table border=\"1\" class=\"dataframe\">\n",
              "  <thead>\n",
              "    <tr style=\"text-align: right;\">\n",
              "      <th></th>\n",
              "      <th>Letter</th>\n",
              "      <th>Frequency of Letters</th>\n",
              "      <th>Proportion</th>\n",
              "    </tr>\n",
              "  </thead>\n",
              "  <tbody>\n",
              "    <tr>\n",
              "      <th>0</th>\n",
              "      <td>A</td>\n",
              "      <td>8.4966%</td>\n",
              "      <td>43.31</td>\n",
              "    </tr>\n",
              "    <tr>\n",
              "      <th>1</th>\n",
              "      <td>B</td>\n",
              "      <td>2.072%</td>\n",
              "      <td>10.56</td>\n",
              "    </tr>\n",
              "    <tr>\n",
              "      <th>2</th>\n",
              "      <td>C</td>\n",
              "      <td>4.5388%</td>\n",
              "      <td>23.13</td>\n",
              "    </tr>\n",
              "    <tr>\n",
              "      <th>3</th>\n",
              "      <td>D</td>\n",
              "      <td>3.3844%</td>\n",
              "      <td>17.25</td>\n",
              "    </tr>\n",
              "    <tr>\n",
              "      <th>4</th>\n",
              "      <td>E</td>\n",
              "      <td>11.1607%</td>\n",
              "      <td>56.88</td>\n",
              "    </tr>\n",
              "  </tbody>\n",
              "</table>\n",
              "</div>"
            ],
            "text/plain": [
              "  Letter Frequency of Letters  Proportion\n",
              "0      A              8.4966%       43.31\n",
              "1      B               2.072%       10.56\n",
              "2      C              4.5388%       23.13\n",
              "3      D              3.3844%       17.25\n",
              "4      E             11.1607%       56.88"
            ]
          },
          "metadata": {},
          "execution_count": 33
        }
      ]
    },
    {
      "cell_type": "code",
      "metadata": {
        "colab": {
          "base_uri": "https://localhost:8080/"
        },
        "id": "uopNlZwRSCqO",
        "outputId": "4d2867cc-b660-4c29-82da-1a5965ec8c58"
      },
      "source": [
        "lf.info()"
      ],
      "execution_count": 34,
      "outputs": [
        {
          "output_type": "stream",
          "text": [
            "<class 'pandas.core.frame.DataFrame'>\n",
            "Int64Index: 26 entries, 0 to 25\n",
            "Data columns (total 3 columns):\n",
            " #   Column                Non-Null Count  Dtype  \n",
            "---  ------                --------------  -----  \n",
            " 0   Letter                26 non-null     object \n",
            " 1   Frequency of Letters  26 non-null     object \n",
            " 2   Proportion            26 non-null     float64\n",
            "dtypes: float64(1), object(2)\n",
            "memory usage: 832.0+ bytes\n"
          ],
          "name": "stdout"
        }
      ]
    },
    {
      "cell_type": "code",
      "metadata": {
        "id": "14AC9G3CSU2e"
      },
      "source": [
        "lf['Frequency of Letters'] = lf['Frequency of Letters'].replace('%','',regex = True)"
      ],
      "execution_count": 35,
      "outputs": []
    },
    {
      "cell_type": "code",
      "metadata": {
        "id": "MO5sG3gaSD2n"
      },
      "source": [
        "lf[\"Frequency of Letters\"] = lf[\"Frequency of Letters\"].astype('float')"
      ],
      "execution_count": 43,
      "outputs": []
    },
    {
      "cell_type": "code",
      "metadata": {
        "colab": {
          "base_uri": "https://localhost:8080/"
        },
        "id": "zT_q3fTOSNDm",
        "outputId": "63a46103-89c7-4a4b-bf02-8bea505d80a7"
      },
      "source": [
        "lf.info()"
      ],
      "execution_count": 37,
      "outputs": [
        {
          "output_type": "stream",
          "text": [
            "<class 'pandas.core.frame.DataFrame'>\n",
            "Int64Index: 26 entries, 0 to 25\n",
            "Data columns (total 3 columns):\n",
            " #   Column                Non-Null Count  Dtype  \n",
            "---  ------                --------------  -----  \n",
            " 0   Letter                26 non-null     object \n",
            " 1   Frequency of Letters  26 non-null     object \n",
            " 2   Proportion            26 non-null     float64\n",
            "dtypes: float64(1), object(2)\n",
            "memory usage: 832.0+ bytes\n"
          ],
          "name": "stdout"
        }
      ]
    },
    {
      "cell_type": "code",
      "metadata": {
        "colab": {
          "base_uri": "https://localhost:8080/",
          "height": 349
        },
        "id": "HSn-r-azVqEB",
        "outputId": "4d8804f0-1a96-45d0-b960-29a1df5712e7"
      },
      "source": [
        "sns.barplot(lf['Letter'], lf['Frequency of Letters'])\n",
        "plt.title('How often each letter is used');"
      ],
      "execution_count": 47,
      "outputs": [
        {
          "output_type": "stream",
          "text": [
            "/usr/local/lib/python3.7/dist-packages/seaborn/_decorators.py:43: FutureWarning: Pass the following variables as keyword args: x, y. From version 0.12, the only valid positional argument will be `data`, and passing other arguments without an explicit keyword will result in an error or misinterpretation.\n",
            "  FutureWarning\n"
          ],
          "name": "stderr"
        },
        {
          "output_type": "display_data",
          "data": {
            "image/png": "[encoded data removed]",
            "text/plain": [
              "<Figure size 432x288 with 1 Axes>"
            ]
          },
          "metadata": {
            "needs_background": "light"
          }
        }
      ]
    },
    {
      "cell_type": "code",
      "metadata": {
        "colab": {
          "base_uri": "https://localhost:8080/",
          "height": 204
        },
        "id": "3zsEdZv4XBux",
        "outputId": "729e44de-ada8-4e03-9703-3d850f405568"
      },
      "source": [
        "#top 5 most common letters along with their frequencies and proportions\n",
        "lf.nlargest(5, 'Frequency of Letters')"
      ],
      "execution_count": 50,
      "outputs": [
        {
          "output_type": "execute_result",
          "data": {
            "text/html": [
              "<div>\n",
              "<style scoped>\n",
              "    .dataframe tbody tr th:only-of-type {\n",
              "        vertical-align: middle;\n",
              "    }\n",
              "\n",
              "    .dataframe tbody tr th {\n",
              "        vertical-align: top;\n",
              "    }\n",
              "\n",
              "    .dataframe thead th {\n",
              "        text-align: right;\n",
              "    }\n",
              "</style>\n",
              "<table border=\"1\" class=\"dataframe\">\n",
              "  <thead>\n",
              "    <tr style=\"text-align: right;\">\n",
              "      <th></th>\n",
              "      <th>Letter</th>\n",
              "      <th>Frequency of Letters</th>\n",
              "      <th>Proportion</th>\n",
              "    </tr>\n",
              "  </thead>\n",
              "  <tbody>\n",
              "    <tr>\n",
              "      <th>4</th>\n",
              "      <td>E</td>\n",
              "      <td>11.1607</td>\n",
              "      <td>56.88</td>\n",
              "    </tr>\n",
              "    <tr>\n",
              "      <th>0</th>\n",
              "      <td>A</td>\n",
              "      <td>8.4966</td>\n",
              "      <td>43.31</td>\n",
              "    </tr>\n",
              "    <tr>\n",
              "      <th>17</th>\n",
              "      <td>R</td>\n",
              "      <td>7.5809</td>\n",
              "      <td>38.64</td>\n",
              "    </tr>\n",
              "    <tr>\n",
              "      <th>8</th>\n",
              "      <td>I</td>\n",
              "      <td>7.5448</td>\n",
              "      <td>38.45</td>\n",
              "    </tr>\n",
              "    <tr>\n",
              "      <th>14</th>\n",
              "      <td>O</td>\n",
              "      <td>7.1635</td>\n",
              "      <td>36.51</td>\n",
              "    </tr>\n",
              "  </tbody>\n",
              "</table>\n",
              "</div>"
            ],
            "text/plain": [
              "   Letter  Frequency of Letters  Proportion\n",
              "4       E               11.1607       56.88\n",
              "0       A                8.4966       43.31\n",
              "17      R                7.5809       38.64\n",
              "8       I                7.5448       38.45\n",
              "14      O                7.1635       36.51"
            ]
          },
          "metadata": {},
          "execution_count": 50
        }
      ]
    },
    {
      "cell_type": "code",
      "metadata": {
        "colab": {
          "base_uri": "https://localhost:8080/",
          "height": 204
        },
        "id": "qpn_ab20XV07",
        "outputId": "600c0bda-38d8-410e-992c-be585ca1d415"
      },
      "source": [
        "# 5 least common letters along with their frequencies and proportions\n",
        "lf.nsmallest(5, 'Frequency of Letters')"
      ],
      "execution_count": 51,
      "outputs": [
        {
          "output_type": "execute_result",
          "data": {
            "text/html": [
              "<div>\n",
              "<style scoped>\n",
              "    .dataframe tbody tr th:only-of-type {\n",
              "        vertical-align: middle;\n",
              "    }\n",
              "\n",
              "    .dataframe tbody tr th {\n",
              "        vertical-align: top;\n",
              "    }\n",
              "\n",
              "    .dataframe thead th {\n",
              "        text-align: right;\n",
              "    }\n",
              "</style>\n",
              "<table border=\"1\" class=\"dataframe\">\n",
              "  <thead>\n",
              "    <tr style=\"text-align: right;\">\n",
              "      <th></th>\n",
              "      <th>Letter</th>\n",
              "      <th>Frequency of Letters</th>\n",
              "      <th>Proportion</th>\n",
              "    </tr>\n",
              "  </thead>\n",
              "  <tbody>\n",
              "    <tr>\n",
              "      <th>16</th>\n",
              "      <td>Q</td>\n",
              "      <td>0.1962</td>\n",
              "      <td>1.00</td>\n",
              "    </tr>\n",
              "    <tr>\n",
              "      <th>9</th>\n",
              "      <td>J</td>\n",
              "      <td>0.1965</td>\n",
              "      <td>1.00</td>\n",
              "    </tr>\n",
              "    <tr>\n",
              "      <th>25</th>\n",
              "      <td>Z</td>\n",
              "      <td>0.2722</td>\n",
              "      <td>1.39</td>\n",
              "    </tr>\n",
              "    <tr>\n",
              "      <th>23</th>\n",
              "      <td>X</td>\n",
              "      <td>0.2902</td>\n",
              "      <td>1.48</td>\n",
              "    </tr>\n",
              "    <tr>\n",
              "      <th>21</th>\n",
              "      <td>V</td>\n",
              "      <td>1.0074</td>\n",
              "      <td>5.13</td>\n",
              "    </tr>\n",
              "  </tbody>\n",
              "</table>\n",
              "</div>"
            ],
            "text/plain": [
              "   Letter  Frequency of Letters  Proportion\n",
              "16      Q                0.1962        1.00\n",
              "9       J                0.1965        1.00\n",
              "25      Z                0.2722        1.39\n",
              "23      X                0.2902        1.48\n",
              "21      V                1.0074        5.13"
            ]
          },
          "metadata": {},
          "execution_count": 51
        }
      ]
    },
    {
      "cell_type": "code",
      "metadata": {
        "id": "d61RuuiBXYUd"
      },
      "source": [
        "#Filter the dataset to just show rows for vowels (A, E, I, O, U)"
      ],
      "execution_count": 69,
      "outputs": []
    },
    {
      "cell_type": "code",
      "metadata": {
        "id": "ycYn2Sd-qF4n"
      },
      "source": [
        "from sklearn.preprocessing import StandardScaler\n",
        "from sklearn.model_selection import train_test_split\n",
        "from tensorflow.keras.models import Sequential\n",
        "from tensorflow.keras.layers import Dense, Dropout, Flatten, Conv2D, MaxPooling2D\n",
        "from tensorflow.keras.callbacks import EarlyStopping\n",
        "from tensorflow.keras.utils import to_categorical\n",
        "from sklearn.metrics import accuracy_score"
      ],
      "execution_count": 73,
      "outputs": []
    },
    {
      "cell_type": "code",
      "metadata": {
        "id": "vl49UNQRcf6t"
      },
      "source": [
        "train = pd.read_csv('/content/drive/MyDrive/PT_Data_Science/PandasForDataManipulation/belt_train.csv')\n",
        "test = pd.read_csv('/content/drive/MyDrive/PT_Data_Science/PandasForDataManipulation/belt_test.csv')"
      ],
      "execution_count": 70,
      "outputs": []
    },
    {
      "cell_type": "code",
      "metadata": {
        "colab": {
          "base_uri": "https://localhost:8080/",
          "height": 253
        },
        "id": "RiGyF6VUp446",
        "outputId": "f03f6d6f-42ed-4a1f-b08f-88a96fdd2602"
      },
      "source": [
        "train.head()"
      ],
      "execution_count": 72,
      "outputs": [
        {
          "output_type": "execute_result",
          "data": {
            "text/html": [
              "<div>\n",
              "<style scoped>\n",
              "    .dataframe tbody tr th:only-of-type {\n",
              "        vertical-align: middle;\n",
              "    }\n",
              "\n",
              "    .dataframe tbody tr th {\n",
              "        vertical-align: top;\n",
              "    }\n",
              "\n",
              "    .dataframe thead th {\n",
              "        text-align: right;\n",
              "    }\n",
              "</style>\n",
              "<table border=\"1\" class=\"dataframe\">\n",
              "  <thead>\n",
              "    <tr style=\"text-align: right;\">\n",
              "      <th></th>\n",
              "      <th>letter</th>\n",
              "      <th>0.1</th>\n",
              "      <th>0.2</th>\n",
              "      <th>0.3</th>\n",
              "      <th>0.4</th>\n",
              "      <th>0.5</th>\n",
              "      <th>0.6</th>\n",
              "      <th>0.7</th>\n",
              "      <th>0.8</th>\n",
              "      <th>0.9</th>\n",
              "      <th>0.10</th>\n",
              "      <th>0.11</th>\n",
              "      <th>0.12</th>\n",
              "      <th>0.13</th>\n",
              "      <th>0.14</th>\n",
              "      <th>0.15</th>\n",
              "      <th>0.16</th>\n",
              "      <th>0.17</th>\n",
              "      <th>0.18</th>\n",
              "      <th>0.19</th>\n",
              "      <th>0.20</th>\n",
              "      <th>0.21</th>\n",
              "      <th>0.22</th>\n",
              "      <th>0.23</th>\n",
              "      <th>0.24</th>\n",
              "      <th>0.25</th>\n",
              "      <th>0.26</th>\n",
              "      <th>0.27</th>\n",
              "      <th>0.28</th>\n",
              "      <th>0.29</th>\n",
              "      <th>0.30</th>\n",
              "      <th>0.31</th>\n",
              "      <th>0.32</th>\n",
              "      <th>0.33</th>\n",
              "      <th>0.34</th>\n",
              "      <th>0.35</th>\n",
              "      <th>0.36</th>\n",
              "      <th>0.37</th>\n",
              "      <th>0.38</th>\n",
              "      <th>0.39</th>\n",
              "      <th>...</th>\n",
              "      <th>0.609</th>\n",
              "      <th>0.610</th>\n",
              "      <th>0.611</th>\n",
              "      <th>0.612</th>\n",
              "      <th>0.613</th>\n",
              "      <th>0.614</th>\n",
              "      <th>0.615</th>\n",
              "      <th>0.616</th>\n",
              "      <th>0.617</th>\n",
              "      <th>0.618</th>\n",
              "      <th>0.619</th>\n",
              "      <th>0.620</th>\n",
              "      <th>0.621</th>\n",
              "      <th>0.622</th>\n",
              "      <th>0.623</th>\n",
              "      <th>0.624</th>\n",
              "      <th>0.625</th>\n",
              "      <th>0.626</th>\n",
              "      <th>0.627</th>\n",
              "      <th>0.628</th>\n",
              "      <th>0.629</th>\n",
              "      <th>0.630</th>\n",
              "      <th>0.631</th>\n",
              "      <th>0.632</th>\n",
              "      <th>0.633</th>\n",
              "      <th>0.634</th>\n",
              "      <th>0.635</th>\n",
              "      <th>0.636</th>\n",
              "      <th>0.637</th>\n",
              "      <th>0.638</th>\n",
              "      <th>0.639</th>\n",
              "      <th>0.640</th>\n",
              "      <th>0.641</th>\n",
              "      <th>0.642</th>\n",
              "      <th>0.643</th>\n",
              "      <th>0.644</th>\n",
              "      <th>0.645</th>\n",
              "      <th>0.646</th>\n",
              "      <th>0.647</th>\n",
              "      <th>0.648</th>\n",
              "    </tr>\n",
              "  </thead>\n",
              "  <tbody>\n",
              "    <tr>\n",
              "      <th>0</th>\n",
              "      <td>0</td>\n",
              "      <td>0</td>\n",
              "      <td>0</td>\n",
              "      <td>0</td>\n",
              "      <td>0</td>\n",
              "      <td>0</td>\n",
              "      <td>0</td>\n",
              "      <td>0</td>\n",
              "      <td>0</td>\n",
              "      <td>0</td>\n",
              "      <td>0</td>\n",
              "      <td>0</td>\n",
              "      <td>0</td>\n",
              "      <td>0</td>\n",
              "      <td>0</td>\n",
              "      <td>0</td>\n",
              "      <td>0</td>\n",
              "      <td>0</td>\n",
              "      <td>0</td>\n",
              "      <td>0</td>\n",
              "      <td>0</td>\n",
              "      <td>0</td>\n",
              "      <td>0</td>\n",
              "      <td>0</td>\n",
              "      <td>0</td>\n",
              "      <td>0</td>\n",
              "      <td>0</td>\n",
              "      <td>0</td>\n",
              "      <td>0</td>\n",
              "      <td>0</td>\n",
              "      <td>0</td>\n",
              "      <td>0</td>\n",
              "      <td>0</td>\n",
              "      <td>0</td>\n",
              "      <td>0</td>\n",
              "      <td>0</td>\n",
              "      <td>0</td>\n",
              "      <td>0</td>\n",
              "      <td>0</td>\n",
              "      <td>0</td>\n",
              "      <td>...</td>\n",
              "      <td>0</td>\n",
              "      <td>0</td>\n",
              "      <td>0</td>\n",
              "      <td>0</td>\n",
              "      <td>0</td>\n",
              "      <td>0</td>\n",
              "      <td>0</td>\n",
              "      <td>0</td>\n",
              "      <td>0</td>\n",
              "      <td>0</td>\n",
              "      <td>0</td>\n",
              "      <td>0</td>\n",
              "      <td>0</td>\n",
              "      <td>0</td>\n",
              "      <td>0</td>\n",
              "      <td>0</td>\n",
              "      <td>0</td>\n",
              "      <td>0</td>\n",
              "      <td>0</td>\n",
              "      <td>0</td>\n",
              "      <td>0</td>\n",
              "      <td>0</td>\n",
              "      <td>0</td>\n",
              "      <td>0</td>\n",
              "      <td>0</td>\n",
              "      <td>0</td>\n",
              "      <td>0</td>\n",
              "      <td>0</td>\n",
              "      <td>0</td>\n",
              "      <td>0</td>\n",
              "      <td>0</td>\n",
              "      <td>0</td>\n",
              "      <td>0</td>\n",
              "      <td>0</td>\n",
              "      <td>0</td>\n",
              "      <td>0</td>\n",
              "      <td>0</td>\n",
              "      <td>0</td>\n",
              "      <td>0</td>\n",
              "      <td>0</td>\n",
              "    </tr>\n",
              "    <tr>\n",
              "      <th>1</th>\n",
              "      <td>0</td>\n",
              "      <td>0</td>\n",
              "      <td>0</td>\n",
              "      <td>0</td>\n",
              "      <td>0</td>\n",
              "      <td>0</td>\n",
              "      <td>0</td>\n",
              "      <td>0</td>\n",
              "      <td>0</td>\n",
              "      <td>0</td>\n",
              "      <td>0</td>\n",
              "      <td>0</td>\n",
              "      <td>0</td>\n",
              "      <td>0</td>\n",
              "      <td>0</td>\n",
              "      <td>0</td>\n",
              "      <td>0</td>\n",
              "      <td>0</td>\n",
              "      <td>0</td>\n",
              "      <td>0</td>\n",
              "      <td>0</td>\n",
              "      <td>0</td>\n",
              "      <td>0</td>\n",
              "      <td>0</td>\n",
              "      <td>0</td>\n",
              "      <td>0</td>\n",
              "      <td>0</td>\n",
              "      <td>0</td>\n",
              "      <td>0</td>\n",
              "      <td>0</td>\n",
              "      <td>0</td>\n",
              "      <td>0</td>\n",
              "      <td>0</td>\n",
              "      <td>0</td>\n",
              "      <td>0</td>\n",
              "      <td>0</td>\n",
              "      <td>0</td>\n",
              "      <td>0</td>\n",
              "      <td>0</td>\n",
              "      <td>0</td>\n",
              "      <td>...</td>\n",
              "      <td>0</td>\n",
              "      <td>0</td>\n",
              "      <td>0</td>\n",
              "      <td>0</td>\n",
              "      <td>0</td>\n",
              "      <td>0</td>\n",
              "      <td>0</td>\n",
              "      <td>0</td>\n",
              "      <td>0</td>\n",
              "      <td>0</td>\n",
              "      <td>0</td>\n",
              "      <td>0</td>\n",
              "      <td>0</td>\n",
              "      <td>0</td>\n",
              "      <td>0</td>\n",
              "      <td>0</td>\n",
              "      <td>0</td>\n",
              "      <td>0</td>\n",
              "      <td>0</td>\n",
              "      <td>0</td>\n",
              "      <td>0</td>\n",
              "      <td>0</td>\n",
              "      <td>0</td>\n",
              "      <td>0</td>\n",
              "      <td>0</td>\n",
              "      <td>0</td>\n",
              "      <td>0</td>\n",
              "      <td>0</td>\n",
              "      <td>0</td>\n",
              "      <td>0</td>\n",
              "      <td>0</td>\n",
              "      <td>0</td>\n",
              "      <td>0</td>\n",
              "      <td>0</td>\n",
              "      <td>0</td>\n",
              "      <td>0</td>\n",
              "      <td>0</td>\n",
              "      <td>0</td>\n",
              "      <td>0</td>\n",
              "      <td>0</td>\n",
              "    </tr>\n",
              "    <tr>\n",
              "      <th>2</th>\n",
              "      <td>0</td>\n",
              "      <td>0</td>\n",
              "      <td>0</td>\n",
              "      <td>0</td>\n",
              "      <td>0</td>\n",
              "      <td>0</td>\n",
              "      <td>0</td>\n",
              "      <td>0</td>\n",
              "      <td>0</td>\n",
              "      <td>0</td>\n",
              "      <td>0</td>\n",
              "      <td>0</td>\n",
              "      <td>0</td>\n",
              "      <td>0</td>\n",
              "      <td>0</td>\n",
              "      <td>0</td>\n",
              "      <td>0</td>\n",
              "      <td>0</td>\n",
              "      <td>0</td>\n",
              "      <td>0</td>\n",
              "      <td>0</td>\n",
              "      <td>0</td>\n",
              "      <td>0</td>\n",
              "      <td>0</td>\n",
              "      <td>0</td>\n",
              "      <td>0</td>\n",
              "      <td>0</td>\n",
              "      <td>0</td>\n",
              "      <td>0</td>\n",
              "      <td>0</td>\n",
              "      <td>0</td>\n",
              "      <td>0</td>\n",
              "      <td>0</td>\n",
              "      <td>0</td>\n",
              "      <td>0</td>\n",
              "      <td>0</td>\n",
              "      <td>0</td>\n",
              "      <td>0</td>\n",
              "      <td>0</td>\n",
              "      <td>0</td>\n",
              "      <td>...</td>\n",
              "      <td>0</td>\n",
              "      <td>0</td>\n",
              "      <td>0</td>\n",
              "      <td>0</td>\n",
              "      <td>0</td>\n",
              "      <td>0</td>\n",
              "      <td>0</td>\n",
              "      <td>0</td>\n",
              "      <td>0</td>\n",
              "      <td>0</td>\n",
              "      <td>0</td>\n",
              "      <td>0</td>\n",
              "      <td>0</td>\n",
              "      <td>0</td>\n",
              "      <td>0</td>\n",
              "      <td>0</td>\n",
              "      <td>0</td>\n",
              "      <td>0</td>\n",
              "      <td>0</td>\n",
              "      <td>0</td>\n",
              "      <td>0</td>\n",
              "      <td>0</td>\n",
              "      <td>0</td>\n",
              "      <td>0</td>\n",
              "      <td>0</td>\n",
              "      <td>0</td>\n",
              "      <td>0</td>\n",
              "      <td>0</td>\n",
              "      <td>0</td>\n",
              "      <td>0</td>\n",
              "      <td>0</td>\n",
              "      <td>0</td>\n",
              "      <td>0</td>\n",
              "      <td>0</td>\n",
              "      <td>0</td>\n",
              "      <td>0</td>\n",
              "      <td>0</td>\n",
              "      <td>0</td>\n",
              "      <td>0</td>\n",
              "      <td>0</td>\n",
              "    </tr>\n",
              "    <tr>\n",
              "      <th>3</th>\n",
              "      <td>0</td>\n",
              "      <td>0</td>\n",
              "      <td>0</td>\n",
              "      <td>0</td>\n",
              "      <td>0</td>\n",
              "      <td>0</td>\n",
              "      <td>0</td>\n",
              "      <td>0</td>\n",
              "      <td>0</td>\n",
              "      <td>0</td>\n",
              "      <td>0</td>\n",
              "      <td>0</td>\n",
              "      <td>0</td>\n",
              "      <td>0</td>\n",
              "      <td>0</td>\n",
              "      <td>0</td>\n",
              "      <td>0</td>\n",
              "      <td>0</td>\n",
              "      <td>0</td>\n",
              "      <td>0</td>\n",
              "      <td>0</td>\n",
              "      <td>0</td>\n",
              "      <td>0</td>\n",
              "      <td>0</td>\n",
              "      <td>0</td>\n",
              "      <td>0</td>\n",
              "      <td>0</td>\n",
              "      <td>0</td>\n",
              "      <td>0</td>\n",
              "      <td>0</td>\n",
              "      <td>0</td>\n",
              "      <td>0</td>\n",
              "      <td>0</td>\n",
              "      <td>0</td>\n",
              "      <td>0</td>\n",
              "      <td>0</td>\n",
              "      <td>0</td>\n",
              "      <td>0</td>\n",
              "      <td>0</td>\n",
              "      <td>0</td>\n",
              "      <td>...</td>\n",
              "      <td>0</td>\n",
              "      <td>0</td>\n",
              "      <td>0</td>\n",
              "      <td>0</td>\n",
              "      <td>0</td>\n",
              "      <td>0</td>\n",
              "      <td>0</td>\n",
              "      <td>0</td>\n",
              "      <td>0</td>\n",
              "      <td>0</td>\n",
              "      <td>0</td>\n",
              "      <td>0</td>\n",
              "      <td>0</td>\n",
              "      <td>0</td>\n",
              "      <td>0</td>\n",
              "      <td>0</td>\n",
              "      <td>0</td>\n",
              "      <td>0</td>\n",
              "      <td>0</td>\n",
              "      <td>0</td>\n",
              "      <td>0</td>\n",
              "      <td>0</td>\n",
              "      <td>0</td>\n",
              "      <td>0</td>\n",
              "      <td>0</td>\n",
              "      <td>0</td>\n",
              "      <td>0</td>\n",
              "      <td>0</td>\n",
              "      <td>0</td>\n",
              "      <td>0</td>\n",
              "      <td>0</td>\n",
              "      <td>0</td>\n",
              "      <td>0</td>\n",
              "      <td>0</td>\n",
              "      <td>0</td>\n",
              "      <td>0</td>\n",
              "      <td>0</td>\n",
              "      <td>0</td>\n",
              "      <td>0</td>\n",
              "      <td>0</td>\n",
              "    </tr>\n",
              "    <tr>\n",
              "      <th>4</th>\n",
              "      <td>0</td>\n",
              "      <td>0</td>\n",
              "      <td>0</td>\n",
              "      <td>0</td>\n",
              "      <td>0</td>\n",
              "      <td>0</td>\n",
              "      <td>0</td>\n",
              "      <td>0</td>\n",
              "      <td>0</td>\n",
              "      <td>0</td>\n",
              "      <td>0</td>\n",
              "      <td>0</td>\n",
              "      <td>0</td>\n",
              "      <td>0</td>\n",
              "      <td>0</td>\n",
              "      <td>0</td>\n",
              "      <td>0</td>\n",
              "      <td>0</td>\n",
              "      <td>0</td>\n",
              "      <td>0</td>\n",
              "      <td>0</td>\n",
              "      <td>0</td>\n",
              "      <td>0</td>\n",
              "      <td>0</td>\n",
              "      <td>0</td>\n",
              "      <td>0</td>\n",
              "      <td>0</td>\n",
              "      <td>0</td>\n",
              "      <td>0</td>\n",
              "      <td>0</td>\n",
              "      <td>0</td>\n",
              "      <td>0</td>\n",
              "      <td>0</td>\n",
              "      <td>0</td>\n",
              "      <td>0</td>\n",
              "      <td>0</td>\n",
              "      <td>0</td>\n",
              "      <td>0</td>\n",
              "      <td>0</td>\n",
              "      <td>0</td>\n",
              "      <td>...</td>\n",
              "      <td>0</td>\n",
              "      <td>0</td>\n",
              "      <td>0</td>\n",
              "      <td>0</td>\n",
              "      <td>0</td>\n",
              "      <td>0</td>\n",
              "      <td>0</td>\n",
              "      <td>0</td>\n",
              "      <td>0</td>\n",
              "      <td>0</td>\n",
              "      <td>0</td>\n",
              "      <td>0</td>\n",
              "      <td>0</td>\n",
              "      <td>0</td>\n",
              "      <td>0</td>\n",
              "      <td>0</td>\n",
              "      <td>0</td>\n",
              "      <td>0</td>\n",
              "      <td>0</td>\n",
              "      <td>0</td>\n",
              "      <td>0</td>\n",
              "      <td>0</td>\n",
              "      <td>0</td>\n",
              "      <td>0</td>\n",
              "      <td>0</td>\n",
              "      <td>0</td>\n",
              "      <td>0</td>\n",
              "      <td>0</td>\n",
              "      <td>0</td>\n",
              "      <td>0</td>\n",
              "      <td>0</td>\n",
              "      <td>0</td>\n",
              "      <td>0</td>\n",
              "      <td>0</td>\n",
              "      <td>0</td>\n",
              "      <td>0</td>\n",
              "      <td>0</td>\n",
              "      <td>0</td>\n",
              "      <td>0</td>\n",
              "      <td>0</td>\n",
              "    </tr>\n",
              "  </tbody>\n",
              "</table>\n",
              "<p>5 rows × 785 columns</p>\n",
              "</div>"
            ],
            "text/plain": [
              "   letter  0.1  0.2  0.3  0.4  0.5  ...  0.643  0.644  0.645  0.646  0.647  0.648\n",
              "0       0    0    0    0    0    0  ...      0      0      0      0      0      0\n",
              "1       0    0    0    0    0    0  ...      0      0      0      0      0      0\n",
              "2       0    0    0    0    0    0  ...      0      0      0      0      0      0\n",
              "3       0    0    0    0    0    0  ...      0      0      0      0      0      0\n",
              "4       0    0    0    0    0    0  ...      0      0      0      0      0      0\n",
              "\n",
              "[5 rows x 785 columns]"
            ]
          },
          "metadata": {},
          "execution_count": 72
        }
      ]
    },
    {
      "cell_type": "code",
      "metadata": {
        "id": "7IpudJmXp5vh"
      },
      "source": [
        "X_train = train.drop(columns= 'letter')/255\n",
        "X_test = test.drop(columns= 'letter')/255\n",
        "y_train = train['letter']\n",
        "y_test = test['letter']"
      ],
      "execution_count": 74,
      "outputs": []
    },
    {
      "cell_type": "code",
      "metadata": {
        "id": "TPGk4oXYqROa"
      },
      "source": [
        "X_train, X_val, y_train, y_val = train_test_split(X_train, y_train, test_size = .3, random_state = 42)"
      ],
      "execution_count": 76,
      "outputs": []
    },
    {
      "cell_type": "code",
      "metadata": {
        "colab": {
          "base_uri": "https://localhost:8080/"
        },
        "id": "mCH8oQmRqVmz",
        "outputId": "1b2314ae-8bcc-4986-ec12-2bf7b1ffe935"
      },
      "source": [
        "X_train.shape"
      ],
      "execution_count": 80,
      "outputs": [
        {
          "output_type": "execute_result",
          "data": {
            "text/plain": [
              "(146000, 784)"
            ]
          },
          "metadata": {},
          "execution_count": 80
        }
      ]
    },
    {
      "cell_type": "code",
      "metadata": {
        "colab": {
          "base_uri": "https://localhost:8080/",
          "height": 281
        },
        "id": "p39hH3FNqXWs",
        "outputId": "79239764-558b-4f45-a845-dca56b7097f1"
      },
      "source": [
        "class_names = {0 : 'A', 1: 'B', 2:'C', 3:'D', 4: 'E',\n",
        "               5: 'F', 6: 'G', 7:'H', 8:'I', 9:'J', 10: 'K', 11:'L', 12:'M', 13: 'N',\n",
        "               14: 'O', 15: 'P', 16:'Q', 17:'R', 18:'S', 19: 'T', 20:'U', 21:'V', 22: 'W',\n",
        "               23: 'X', 24: 'Y', 25:'Z'}\n",
        "plt.imshow(np.array(X_train.loc[1,:]).reshape(28,28))\n",
        "plt.title('{}'.format(class_names[y_train[1]]));"
      ],
      "execution_count": 86,
      "outputs": [
        {
          "output_type": "display_data",
          "data": {
            "image/png": "[encoded data removed]",
            "text/plain": [
              "<Figure size 432x288 with 1 Axes>"
            ]
          },
          "metadata": {
            "needs_background": "light"
          }
        }
      ]
    },
    {
      "cell_type": "code",
      "metadata": {
        "colab": {
          "base_uri": "https://localhost:8080/",
          "height": 281
        },
        "id": "dkZ9fJW_qixH",
        "outputId": "4dbf6e04-8640-4140-9d9d-09ac63000e1d"
      },
      "source": [
        "plt.imshow(np.array(X_train.loc[42,:]).reshape(28,28))\n",
        "plt.title('{}'.format(class_names[y_train[42]]));"
      ],
      "execution_count": 87,
      "outputs": [
        {
          "output_type": "display_data",
          "data": {
            "image/png": "[encoded data removed]",
            "text/plain": [
              "<Figure size 432x288 with 1 Axes>"
            ]
          },
          "metadata": {
            "needs_background": "light"
          }
        }
      ]
    },
    {
      "cell_type": "code",
      "metadata": {
        "id": "ux9GNAKxrxlK"
      },
      "source": [
        "X_train = np.array(X_train).reshape(X_train.shape[0], 28, 28, 1)\n",
        "X_val = np.array(X_val).reshape(X_val.shape[0], 28, 28, 1)"
      ],
      "execution_count": 91,
      "outputs": []
    },
    {
      "cell_type": "code",
      "metadata": {
        "id": "lO-sOtPRsFDy"
      },
      "source": [
        "y_train = to_categorical(y_train, num_classes = 26)\n",
        "y_val = to_categorical(y_val, num_classes=26)"
      ],
      "execution_count": 92,
      "outputs": []
    },
    {
      "cell_type": "code",
      "metadata": {
        "colab": {
          "base_uri": "https://localhost:8080/"
        },
        "id": "FNmrbdbXsIgS",
        "outputId": "28368b19-2464-4846-c173-15e3efa1b6be"
      },
      "source": [
        "input_shape = X_train.shape[1:4]\n",
        "input_shape"
      ],
      "execution_count": 93,
      "outputs": [
        {
          "output_type": "execute_result",
          "data": {
            "text/plain": [
              "(28, 28, 1)"
            ]
          },
          "metadata": {},
          "execution_count": 93
        }
      ]
    },
    {
      "cell_type": "code",
      "metadata": {
        "id": "2b09yn-bsLuz"
      },
      "source": [
        "model = Sequential()\n",
        "model.add(Conv2D(filters=32, kernel_size=(3,3), activation='relu',input_shape = input_shape))\n",
        "Dropout(.2)\n",
        "model.add(MaxPooling2D(pool_size= 2))\n",
        "model.add(Flatten())\n",
        "model.add(Dense(26,\n",
        "                activation = 'softmax'))"
      ],
      "execution_count": 97,
      "outputs": []
    },
    {
      "cell_type": "code",
      "metadata": {
        "id": "qXze0kBVsNiN"
      },
      "source": [
        "model.compile(loss = 'categorical_crossentropy', optimizer='adam', metrics=['acc'])"
      ],
      "execution_count": 98,
      "outputs": []
    },
    {
      "cell_type": "code",
      "metadata": {
        "colab": {
          "base_uri": "https://localhost:8080/"
        },
        "id": "RIMHaP8xsPUM",
        "outputId": "9e984a0c-259a-4241-a237-9aad18731d97"
      },
      "source": [
        "history = model.fit(X_train, y_train,\n",
        "                    validation_data = (X_val, y_val),\n",
        "                    batch_size=3568,\n",
        "                    epochs = 100)"
      ],
      "execution_count": 99,
      "outputs": [
        {
          "output_type": "stream",
          "text": [
            "Epoch 1/100\n",
            "41/41 [==============================] - 49s 1s/step - loss: 1.8205 - acc: 0.5119 - val_loss: 0.8405 - val_acc: 0.7789\n",
            "Epoch 2/100\n",
            "41/41 [==============================] - 47s 1s/step - loss: 0.6320 - acc: 0.8276 - val_loss: 0.5175 - val_acc: 0.8575\n",
            "Epoch 3/100\n",
            "41/41 [==============================] - 47s 1s/step - loss: 0.4672 - acc: 0.8724 - val_loss: 0.4267 - val_acc: 0.8843\n",
            "Epoch 4/100\n",
            "41/41 [==============================] - 47s 1s/step - loss: 0.3913 - acc: 0.8952 - val_loss: 0.3640 - val_acc: 0.9038\n",
            "Epoch 5/100\n",
            "41/41 [==============================] - 47s 1s/step - loss: 0.3317 - acc: 0.9128 - val_loss: 0.3131 - val_acc: 0.9191\n",
            "Epoch 6/100\n",
            "41/41 [==============================] - 47s 1s/step - loss: 0.2845 - acc: 0.9261 - val_loss: 0.2714 - val_acc: 0.9301\n",
            "Epoch 7/100\n",
            "41/41 [==============================] - 47s 1s/step - loss: 0.2475 - acc: 0.9364 - val_loss: 0.2405 - val_acc: 0.9389\n",
            "Epoch 8/100\n",
            "41/41 [==============================] - 47s 1s/step - loss: 0.2186 - acc: 0.9443 - val_loss: 0.2160 - val_acc: 0.9444\n",
            "Epoch 9/100\n",
            "41/41 [==============================] - 54s 1s/step - loss: 0.1958 - acc: 0.9508 - val_loss: 0.1980 - val_acc: 0.9498\n",
            "Epoch 10/100\n",
            "41/41 [==============================] - 50s 1s/step - loss: 0.1790 - acc: 0.9545 - val_loss: 0.1834 - val_acc: 0.9532\n",
            "Epoch 11/100\n",
            "41/41 [==============================] - 51s 1s/step - loss: 0.1652 - acc: 0.9583 - val_loss: 0.1723 - val_acc: 0.9562\n",
            "Epoch 12/100\n",
            "41/41 [==============================] - 50s 1s/step - loss: 0.1535 - acc: 0.9615 - val_loss: 0.1633 - val_acc: 0.9580\n",
            "Epoch 13/100\n",
            "41/41 [==============================] - 50s 1s/step - loss: 0.1447 - acc: 0.9632 - val_loss: 0.1564 - val_acc: 0.9603\n",
            "Epoch 14/100\n",
            "41/41 [==============================] - 51s 1s/step - loss: 0.1369 - acc: 0.9655 - val_loss: 0.1502 - val_acc: 0.9614\n",
            "Epoch 15/100\n",
            "41/41 [==============================] - 50s 1s/step - loss: 0.1303 - acc: 0.9667 - val_loss: 0.1429 - val_acc: 0.9637\n",
            "Epoch 16/100\n",
            "41/41 [==============================] - 51s 1s/step - loss: 0.1244 - acc: 0.9683 - val_loss: 0.1392 - val_acc: 0.9648\n",
            "Epoch 17/100\n",
            "41/41 [==============================] - 51s 1s/step - loss: 0.1192 - acc: 0.9696 - val_loss: 0.1348 - val_acc: 0.9654\n",
            "Epoch 18/100\n",
            "41/41 [==============================] - 50s 1s/step - loss: 0.1150 - acc: 0.9707 - val_loss: 0.1317 - val_acc: 0.9662\n",
            "Epoch 19/100\n",
            "41/41 [==============================] - 50s 1s/step - loss: 0.1111 - acc: 0.9713 - val_loss: 0.1290 - val_acc: 0.9668\n",
            "Epoch 20/100\n",
            "41/41 [==============================] - 50s 1s/step - loss: 0.1078 - acc: 0.9725 - val_loss: 0.1258 - val_acc: 0.9674\n",
            "Epoch 21/100\n",
            "41/41 [==============================] - 50s 1s/step - loss: 0.1049 - acc: 0.9732 - val_loss: 0.1255 - val_acc: 0.9678\n",
            "Epoch 22/100\n",
            "41/41 [==============================] - 50s 1s/step - loss: 0.1018 - acc: 0.9741 - val_loss: 0.1211 - val_acc: 0.9688\n",
            "Epoch 23/100\n",
            "41/41 [==============================] - 51s 1s/step - loss: 0.0989 - acc: 0.9743 - val_loss: 0.1204 - val_acc: 0.9688\n",
            "Epoch 24/100\n",
            "41/41 [==============================] - 49s 1s/step - loss: 0.0965 - acc: 0.9753 - val_loss: 0.1182 - val_acc: 0.9693\n",
            "Epoch 25/100\n",
            "41/41 [==============================] - 50s 1s/step - loss: 0.0940 - acc: 0.9758 - val_loss: 0.1169 - val_acc: 0.9694\n",
            "Epoch 26/100\n",
            "41/41 [==============================] - 50s 1s/step - loss: 0.0922 - acc: 0.9764 - val_loss: 0.1156 - val_acc: 0.9703\n",
            "Epoch 27/100\n",
            "41/41 [==============================] - 49s 1s/step - loss: 0.0899 - acc: 0.9770 - val_loss: 0.1147 - val_acc: 0.9704\n",
            "Epoch 28/100\n",
            "41/41 [==============================] - 50s 1s/step - loss: 0.0881 - acc: 0.9773 - val_loss: 0.1132 - val_acc: 0.9701\n",
            "Epoch 29/100\n",
            "41/41 [==============================] - 50s 1s/step - loss: 0.0864 - acc: 0.9778 - val_loss: 0.1132 - val_acc: 0.9704\n",
            "Epoch 30/100\n",
            "41/41 [==============================] - 49s 1s/step - loss: 0.0846 - acc: 0.9782 - val_loss: 0.1106 - val_acc: 0.9716\n",
            "Epoch 31/100\n",
            "41/41 [==============================] - 49s 1s/step - loss: 0.0828 - acc: 0.9785 - val_loss: 0.1099 - val_acc: 0.9710\n",
            "Epoch 32/100\n",
            "41/41 [==============================] - 49s 1s/step - loss: 0.0812 - acc: 0.9791 - val_loss: 0.1086 - val_acc: 0.9718\n",
            "Epoch 33/100\n",
            "41/41 [==============================] - 49s 1s/step - loss: 0.0800 - acc: 0.9795 - val_loss: 0.1096 - val_acc: 0.9712\n",
            "Epoch 34/100\n",
            "41/41 [==============================] - 49s 1s/step - loss: 0.0784 - acc: 0.9799 - val_loss: 0.1073 - val_acc: 0.9721\n",
            "Epoch 35/100\n",
            "41/41 [==============================] - 49s 1s/step - loss: 0.0772 - acc: 0.9802 - val_loss: 0.1065 - val_acc: 0.9723\n",
            "Epoch 36/100\n",
            "41/41 [==============================] - 49s 1s/step - loss: 0.0753 - acc: 0.9809 - val_loss: 0.1072 - val_acc: 0.9722\n",
            "Epoch 37/100\n",
            "41/41 [==============================] - 49s 1s/step - loss: 0.0748 - acc: 0.9809 - val_loss: 0.1058 - val_acc: 0.9725\n",
            "Epoch 38/100\n",
            "41/41 [==============================] - 49s 1s/step - loss: 0.0731 - acc: 0.9813 - val_loss: 0.1044 - val_acc: 0.9729\n",
            "Epoch 39/100\n",
            "41/41 [==============================] - 50s 1s/step - loss: 0.0719 - acc: 0.9818 - val_loss: 0.1046 - val_acc: 0.9727\n",
            "Epoch 40/100\n",
            "41/41 [==============================] - 49s 1s/step - loss: 0.0710 - acc: 0.9818 - val_loss: 0.1043 - val_acc: 0.9734\n",
            "Epoch 41/100\n",
            "41/41 [==============================] - 49s 1s/step - loss: 0.0698 - acc: 0.9822 - val_loss: 0.1039 - val_acc: 0.9733\n",
            "Epoch 42/100\n",
            "41/41 [==============================] - 49s 1s/step - loss: 0.0684 - acc: 0.9828 - val_loss: 0.1035 - val_acc: 0.9731\n",
            "Epoch 43/100\n",
            "41/41 [==============================] - 50s 1s/step - loss: 0.0675 - acc: 0.9829 - val_loss: 0.1028 - val_acc: 0.9733\n",
            "Epoch 44/100\n",
            "41/41 [==============================] - 49s 1s/step - loss: 0.0668 - acc: 0.9830 - val_loss: 0.1026 - val_acc: 0.9731\n",
            "Epoch 45/100\n",
            "41/41 [==============================] - 49s 1s/step - loss: 0.0654 - acc: 0.9835 - val_loss: 0.1022 - val_acc: 0.9733\n",
            "Epoch 46/100\n",
            "41/41 [==============================] - 50s 1s/step - loss: 0.0651 - acc: 0.9835 - val_loss: 0.1018 - val_acc: 0.9735\n",
            "Epoch 47/100\n",
            "41/41 [==============================] - 49s 1s/step - loss: 0.0637 - acc: 0.9839 - val_loss: 0.1019 - val_acc: 0.9733\n",
            "Epoch 48/100\n",
            "41/41 [==============================] - 50s 1s/step - loss: 0.0629 - acc: 0.9840 - val_loss: 0.1016 - val_acc: 0.9735\n",
            "Epoch 49/100\n",
            "41/41 [==============================] - 49s 1s/step - loss: 0.0623 - acc: 0.9842 - val_loss: 0.1004 - val_acc: 0.9742\n",
            "Epoch 50/100\n",
            "41/41 [==============================] - 49s 1s/step - loss: 0.0610 - acc: 0.9846 - val_loss: 0.1007 - val_acc: 0.9739\n",
            "Epoch 51/100\n",
            "41/41 [==============================] - 49s 1s/step - loss: 0.0600 - acc: 0.9850 - val_loss: 0.1001 - val_acc: 0.9740\n",
            "Epoch 52/100\n",
            "41/41 [==============================] - 49s 1s/step - loss: 0.0592 - acc: 0.9853 - val_loss: 0.1003 - val_acc: 0.9748\n",
            "Epoch 53/100\n",
            "41/41 [==============================] - 49s 1s/step - loss: 0.0590 - acc: 0.9853 - val_loss: 0.1000 - val_acc: 0.9742\n",
            "Epoch 54/100\n",
            "41/41 [==============================] - 50s 1s/step - loss: 0.0581 - acc: 0.9856 - val_loss: 0.1000 - val_acc: 0.9739\n",
            "Epoch 55/100\n",
            "41/41 [==============================] - 49s 1s/step - loss: 0.0573 - acc: 0.9856 - val_loss: 0.0998 - val_acc: 0.9745\n",
            "Epoch 56/100\n",
            "41/41 [==============================] - 50s 1s/step - loss: 0.0563 - acc: 0.9859 - val_loss: 0.0993 - val_acc: 0.9743\n",
            "Epoch 57/100\n",
            "41/41 [==============================] - 49s 1s/step - loss: 0.0555 - acc: 0.9863 - val_loss: 0.0990 - val_acc: 0.9745\n",
            "Epoch 58/100\n",
            "41/41 [==============================] - 50s 1s/step - loss: 0.0545 - acc: 0.9865 - val_loss: 0.0981 - val_acc: 0.9746\n",
            "Epoch 59/100\n",
            "41/41 [==============================] - 49s 1s/step - loss: 0.0538 - acc: 0.9866 - val_loss: 0.0982 - val_acc: 0.9748\n",
            "Epoch 60/100\n",
            "41/41 [==============================] - 50s 1s/step - loss: 0.0530 - acc: 0.9871 - val_loss: 0.0980 - val_acc: 0.9751\n",
            "Epoch 61/100\n",
            "41/41 [==============================] - 49s 1s/step - loss: 0.0522 - acc: 0.9873 - val_loss: 0.0989 - val_acc: 0.9746\n",
            "Epoch 62/100\n",
            "41/41 [==============================] - 49s 1s/step - loss: 0.0517 - acc: 0.9875 - val_loss: 0.0979 - val_acc: 0.9749\n",
            "Epoch 63/100\n",
            "41/41 [==============================] - 49s 1s/step - loss: 0.0510 - acc: 0.9878 - val_loss: 0.0984 - val_acc: 0.9751\n",
            "Epoch 64/100\n",
            "41/41 [==============================] - 49s 1s/step - loss: 0.0509 - acc: 0.9873 - val_loss: 0.0989 - val_acc: 0.9741\n",
            "Epoch 65/100\n",
            "41/41 [==============================] - 49s 1s/step - loss: 0.0495 - acc: 0.9880 - val_loss: 0.0976 - val_acc: 0.9751\n",
            "Epoch 66/100\n",
            "41/41 [==============================] - 49s 1s/step - loss: 0.0492 - acc: 0.9882 - val_loss: 0.0989 - val_acc: 0.9747\n",
            "Epoch 67/100\n",
            "41/41 [==============================] - 50s 1s/step - loss: 0.0488 - acc: 0.9882 - val_loss: 0.0974 - val_acc: 0.9754\n",
            "Epoch 68/100\n",
            "41/41 [==============================] - 49s 1s/step - loss: 0.0474 - acc: 0.9887 - val_loss: 0.0971 - val_acc: 0.9754\n",
            "Epoch 69/100\n",
            "41/41 [==============================] - 49s 1s/step - loss: 0.0470 - acc: 0.9887 - val_loss: 0.0970 - val_acc: 0.9757\n",
            "Epoch 70/100\n",
            "41/41 [==============================] - 49s 1s/step - loss: 0.0461 - acc: 0.9893 - val_loss: 0.0974 - val_acc: 0.9754\n",
            "Epoch 71/100\n",
            "41/41 [==============================] - 49s 1s/step - loss: 0.0459 - acc: 0.9892 - val_loss: 0.0973 - val_acc: 0.9755\n",
            "Epoch 72/100\n",
            "41/41 [==============================] - 51s 1s/step - loss: 0.0456 - acc: 0.9891 - val_loss: 0.0981 - val_acc: 0.9750\n",
            "Epoch 73/100\n",
            "41/41 [==============================] - 49s 1s/step - loss: 0.0455 - acc: 0.9891 - val_loss: 0.0983 - val_acc: 0.9748\n",
            "Epoch 74/100\n",
            "41/41 [==============================] - 49s 1s/step - loss: 0.0447 - acc: 0.9892 - val_loss: 0.0971 - val_acc: 0.9753\n",
            "Epoch 75/100\n",
            "41/41 [==============================] - 49s 1s/step - loss: 0.0434 - acc: 0.9899 - val_loss: 0.0969 - val_acc: 0.9761\n",
            "Epoch 76/100\n",
            "41/41 [==============================] - 49s 1s/step - loss: 0.0427 - acc: 0.9901 - val_loss: 0.0967 - val_acc: 0.9758\n",
            "Epoch 77/100\n",
            "41/41 [==============================] - 49s 1s/step - loss: 0.0422 - acc: 0.9901 - val_loss: 0.0977 - val_acc: 0.9754\n",
            "Epoch 78/100\n",
            "41/41 [==============================] - 49s 1s/step - loss: 0.0416 - acc: 0.9904 - val_loss: 0.0978 - val_acc: 0.9754\n",
            "Epoch 79/100\n",
            "41/41 [==============================] - 50s 1s/step - loss: 0.0412 - acc: 0.9905 - val_loss: 0.0983 - val_acc: 0.9756\n",
            "Epoch 80/100\n",
            "41/41 [==============================] - 50s 1s/step - loss: 0.0406 - acc: 0.9906 - val_loss: 0.0969 - val_acc: 0.9762\n",
            "Epoch 81/100\n",
            "41/41 [==============================] - 50s 1s/step - loss: 0.0402 - acc: 0.9908 - val_loss: 0.0980 - val_acc: 0.9757\n",
            "Epoch 82/100\n",
            "41/41 [==============================] - 49s 1s/step - loss: 0.0399 - acc: 0.9908 - val_loss: 0.0972 - val_acc: 0.9761\n",
            "Epoch 83/100\n",
            "41/41 [==============================] - 49s 1s/step - loss: 0.0390 - acc: 0.9911 - val_loss: 0.0968 - val_acc: 0.9762\n",
            "Epoch 84/100\n",
            "41/41 [==============================] - 49s 1s/step - loss: 0.0386 - acc: 0.9911 - val_loss: 0.0976 - val_acc: 0.9754\n",
            "Epoch 85/100\n",
            "41/41 [==============================] - 50s 1s/step - loss: 0.0381 - acc: 0.9915 - val_loss: 0.0973 - val_acc: 0.9759\n",
            "Epoch 86/100\n",
            "41/41 [==============================] - 49s 1s/step - loss: 0.0378 - acc: 0.9913 - val_loss: 0.0975 - val_acc: 0.9760\n",
            "Epoch 87/100\n",
            "41/41 [==============================] - 49s 1s/step - loss: 0.0370 - acc: 0.9917 - val_loss: 0.0974 - val_acc: 0.9761\n",
            "Epoch 88/100\n",
            "41/41 [==============================] - 49s 1s/step - loss: 0.0366 - acc: 0.9917 - val_loss: 0.0980 - val_acc: 0.9760\n",
            "Epoch 89/100\n",
            "41/41 [==============================] - 50s 1s/step - loss: 0.0359 - acc: 0.9922 - val_loss: 0.0964 - val_acc: 0.9767\n",
            "Epoch 90/100\n",
            "41/41 [==============================] - 50s 1s/step - loss: 0.0357 - acc: 0.9922 - val_loss: 0.0978 - val_acc: 0.9760\n",
            "Epoch 91/100\n",
            "41/41 [==============================] - 49s 1s/step - loss: 0.0352 - acc: 0.9922 - val_loss: 0.0982 - val_acc: 0.9765\n",
            "Epoch 92/100\n",
            "41/41 [==============================] - 49s 1s/step - loss: 0.0347 - acc: 0.9922 - val_loss: 0.0982 - val_acc: 0.9761\n",
            "Epoch 93/100\n",
            "41/41 [==============================] - 49s 1s/step - loss: 0.0339 - acc: 0.9926 - val_loss: 0.0972 - val_acc: 0.9766\n",
            "Epoch 94/100\n",
            "41/41 [==============================] - 49s 1s/step - loss: 0.0336 - acc: 0.9926 - val_loss: 0.0979 - val_acc: 0.9757\n",
            "Epoch 95/100\n",
            "41/41 [==============================] - 50s 1s/step - loss: 0.0337 - acc: 0.9923 - val_loss: 0.0991 - val_acc: 0.9764\n",
            "Epoch 96/100\n",
            "41/41 [==============================] - 49s 1s/step - loss: 0.0330 - acc: 0.9927 - val_loss: 0.0979 - val_acc: 0.9768\n",
            "Epoch 97/100\n",
            "41/41 [==============================] - 49s 1s/step - loss: 0.0331 - acc: 0.9926 - val_loss: 0.0976 - val_acc: 0.9767\n",
            "Epoch 98/100\n",
            "41/41 [==============================] - 49s 1s/step - loss: 0.0321 - acc: 0.9931 - val_loss: 0.0980 - val_acc: 0.9770\n",
            "Epoch 99/100\n",
            "41/41 [==============================] - 50s 1s/step - loss: 0.0315 - acc: 0.9933 - val_loss: 0.0982 - val_acc: 0.9764\n",
            "Epoch 100/100\n",
            "41/41 [==============================] - 49s 1s/step - loss: 0.0311 - acc: 0.9935 - val_loss: 0.0993 - val_acc: 0.9765\n"
          ],
          "name": "stdout"
        }
      ]
    },
    {
      "cell_type": "code",
      "metadata": {
        "colab": {
          "base_uri": "https://localhost:8080/",
          "height": 265
        },
        "id": "jhx5i27lAsH7",
        "outputId": "d766523d-ef0f-4d77-ea7a-095d76dbfe1c"
      },
      "source": [
        "plt.plot(history.history['loss'], label='Train loss')\n",
        "plt.plot(history.history['val_loss'], label='Test Loss')\n",
        "plt.legend();"
      ],
      "execution_count": 100,
      "outputs": [
        {
          "output_type": "display_data",
          "data": {
            "image/png": "[encoded data removed]",
            "text/plain": [
              "<Figure size 432x288 with 1 Axes>"
            ]
          },
          "metadata": {
            "needs_background": "light"
          }
        }
      ]
    },
    {
      "cell_type": "code",
      "metadata": {
        "colab": {
          "base_uri": "https://localhost:8080/",
          "height": 265
        },
        "id": "0qykIxetAuX2",
        "outputId": "e028727b-86ae-4cbe-c1d8-32cee2c46371"
      },
      "source": [
        "plt.plot(history.history['acc'], label='Train Accuracy')\n",
        "plt.plot(history.history['val_acc'], label='Test Accuracy')\n",
        "plt.legend();"
      ],
      "execution_count": 101,
      "outputs": [
        {
          "output_type": "display_data",
          "data": {
            "image/png": "[encoded data removed]",
            "text/plain": [
              "<Figure size 432x288 with 1 Axes>"
            ]
          },
          "metadata": {
            "needs_background": "light"
          }
        }
      ]
    },
    {
      "cell_type": "code",
      "metadata": {
        "id": "8AjAe8jiAuRK"
      },
      "source": [
        "X_test = np.array(X_test).reshape(X_test.shape[0], 28, 28, 1)"
      ],
      "execution_count": 102,
      "outputs": []
    },
    {
      "cell_type": "code",
      "metadata": {
        "id": "mX5cKDI-A1Gq"
      },
      "source": [
        "preds = np.argmax(model.predict(X_test), axis=-1)"
      ],
      "execution_count": 103,
      "outputs": []
    },
    {
      "cell_type": "code",
      "metadata": {
        "colab": {
          "base_uri": "https://localhost:8080/"
        },
        "id": "8SYSUy9wA1kk",
        "outputId": "4bb62b46-f32b-43bc-ffec-0a9099dd8517"
      },
      "source": [
        "accuracy_score(y_test, preds)"
      ],
      "execution_count": 104,
      "outputs": [
        {
          "output_type": "execute_result",
          "data": {
            "text/plain": [
              "0.9775271848570278"
            ]
          },
          "metadata": {},
          "execution_count": 104
        }
      ]
    },
    {
      "cell_type": "code",
      "metadata": {
        "id": "Z8Xs_CuaBCuJ"
      },
      "source": [
        "from sklearn.metrics import confusion_matrix"
      ],
      "execution_count": 105,
      "outputs": []
    },
    {
      "cell_type": "code",
      "metadata": {
        "id": "GQssCD6GB7GO"
      },
      "source": [
        "cf_matrix = confusion_matrix(y_test, preds)"
      ],
      "execution_count": 109,
      "outputs": []
    },
    {
      "cell_type": "code",
      "metadata": {
        "colab": {
          "base_uri": "https://localhost:8080/",
          "height": 592
        },
        "id": "_NZ02fEyCbwX",
        "outputId": "af70d32c-10b6-425a-842b-1bdd4d1b301b"
      },
      "source": [
        "plt.figure(figsize = (10, 10))\n",
        "sns.heatmap(cf_matrix);"
      ],
      "execution_count": 119,
      "outputs": [
        {
          "output_type": "display_data",
          "data": {
            "image/png": "[encoded data removed]",
            "text/plain": [
              "<Figure size 720x720 with 2 Axes>"
            ]
          },
          "metadata": {
            "needs_background": "light"
          }
        }
      ]
    },
    {
      "cell_type": "code",
      "metadata": {
        "id": "v_I7GGJsD4S6"
      },
      "source": [
        ""
      ],
      "execution_count": null,
      "outputs": []
    }
  ]
}